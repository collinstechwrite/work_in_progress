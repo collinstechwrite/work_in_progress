{
 "cells": [
  {
   "cell_type": "code",
   "execution_count": 59,
   "metadata": {},
   "outputs": [
    {
     "name": "stdout",
     "output_type": "stream",
     "text": [
      "<class 'dict'>\n",
      "status\n",
      "totalResults\n",
      "articles\n",
      "20\n",
      "DOJ says it seized over $1 billion in bitcoin from the Silk Road drugs marketplace\n",
      "http://techcrunch.com/2020/11/05/justice-department-silk-road-billion-bitcoin/\n",
      "PayPal and Venmo will offer and accept cryptocurrency for all online payments\n",
      "https://www.theverge.com/2020/10/21/21527288/paypal-cryptocurrency-support-buy-sell-venmo-bitcoin\n",
      "Bitcoin Mixer Designed to Bypass Money Laundering Laws Fined $60 Million for Bypassing Money Laundering Laws\n",
      "https://gizmodo.com/bitcoin-mixer-designed-to-bypass-money-laundering-laws-1845424354\n",
      "The Morning After: Xbox Series X and Series S reviews are in\n",
      "https://www.engadget.com/xbox-series-review-tma-121501125.html\n",
      "'Individual X' stole $1 billion in crypto from Silk Road. U.S. officials just seized it.\n",
      "https://mashable.com/article/hacker-stole-billion-cryptocurrency-silk-road-seized-us-government/\n",
      "Bitcoin hits $14,000 for the first time since early 2018\n",
      "https://arstechnica.com/tech-policy/2020/10/bitcoin-hits-14000-for-the-first-time-since-early-2018/\n",
      "PayPal’s Big Crypto Move Is All Hype\n",
      "https://gizmodo.com/paypal-s-big-crypto-move-is-all-hype-1845436095\n",
      "The DOJ Seized Over a Billion Dollars From Silk Road's Bitcoin Coffers\n",
      "https://gizmodo.com/the-doj-seized-over-a-billion-dollars-from-silk-roads-b-1845596546\n",
      "With Instagram, hashtags and bitcoin, young Nigerians boost anti-police protests - Reuters India\n",
      "https://in.reuters.com/article/nigeria-protests-police-activists-idINKBN274267\n",
      "With Instagram, hashtags and bitcoin, young Nigerians boost anti-police protests - Reuters.com\n",
      "https://www.reuters.com/article/us-nigeria-protests-police-activists-idUSKBN27418O\n",
      "Satoshi Nakamoto's Bitcoin White Paper: A 12-Year Old Summary of Robust Unstructured Simplicity - Bitcoin News\n",
      "https://news.bitcoin.com/satoshi-nakamotos-bitcoin-white-paper-a-12-year-old-summary-of-robust-unstructured-simplicity/\n",
      "PayPal adds cryptocurrency buying, selling and shopping to its platform - CNET\n",
      "https://www.cnet.com/personal-finance/paypal-adds-cryptocurrency-buying-selling-and-shopping-to-its-platform/\n",
      "Bitcoin extends gains after PayPal move to accept cryptocurrencies - Reuters\n",
      "https://www.reuters.com/article/us-cryptoc-currencies-idUSKBN2761PV\n",
      "Bitcoin extends gains after PayPal move to accept cryptocurrencies - Reuters India\n",
      "https://in.reuters.com/article/cryptoc-currencies-idINKBN2761P7\n",
      "U.S. seizes over $1 billion in bitcoin tied to 'Silk Road' - Reuters\n",
      "https://www.reuters.com/article/us-usa-justice-crypto-currency-idUSKBN27L2I9\n",
      "Bitcoin extends gains after PayPal move to accept cryptocurrencies - Reuters UK\n",
      "https://uk.reuters.com/article/us-cryptoc-currencies-idUKKBN2761PV\n",
      "Bitcoin hits highest level since Jan. 2018 amid post-election volatility - Reuters\n",
      "https://www.reuters.com/article/us-crypto-currencies-bitcoin-idUSKBN27L234\n",
      "Bitcoin hits highest level since January 2018 amid post-election volatility - Reuters UK\n",
      "https://www.reuters.com/article/us-crypto-currencies-bitcoin-idUKKBN27L234\n",
      "BoE's Bailey sees little intrinsic value in Bitcoin - Reuters\n",
      "https://www.reuters.com/article/us-britain-boe-bailey-bitcoin-idUSKBN26X2AH\n"
     ]
    }
   ],
   "source": [
    "import json\n",
    "import requests\n",
    "from newsapi import NewsApiClient\n",
    "\n",
    "# Init\n",
    "newsapi = NewsApiClient(api_key='0fb13acc3bc8480eafedb87afa941f7e')\n",
    "\n",
    "\n",
    "\n",
    "# /v2/everything\n",
    "all_articles = newsapi.get_everything(q='bitcoin')\n",
    "\n",
    "\n",
    "print(type(all_articles))\n",
    "for key in all_articles:\n",
    "    print(key)\n",
    "\n",
    "abc = all_articles['articles']\n",
    "\n",
    "#print(abc)\n",
    "\n",
    "\n",
    "\n",
    "dictionary_length = len(abc)\n",
    "print(dictionary_length)\n",
    "\n",
    "row = 1\n",
    "\n",
    "while row < dictionary_length:\n",
    "    print(abc[row]['title'])\n",
    "    print(abc[row]['url'])\n",
    "    row += 1\n",
    "\n",
    "\n",
    "\n",
    "\n",
    "#json_object = json.dumps(abc, indent = 4)   \n",
    "#print(json_object)  \n",
    "\n",
    "\n",
    "\n",
    "\n",
    "\n",
    "\n"
   ]
  },
  {
   "cell_type": "code",
   "execution_count": 49,
   "metadata": {},
   "outputs": [
    {
     "name": "stdout",
     "output_type": "stream",
     "text": [
      "John\n",
      "27\n",
      "Male\n"
     ]
    }
   ],
   "source": [
    "people = {1: {'name': 'John', 'age': '27', 'sex': 'Male'},\n",
    "          2: {'name': 'Marie', 'age': '22', 'sex': 'Female'}}\n",
    "\n",
    "print(people[1]['name'])\n",
    "print(people[1]['age'])\n",
    "print(people[1]['sex'])"
   ]
  },
  {
   "cell_type": "code",
   "execution_count": null,
   "metadata": {},
   "outputs": [],
   "source": []
  }
 ],
 "metadata": {
  "kernelspec": {
   "display_name": "Python 3",
   "language": "python",
   "name": "python3"
  },
  "language_info": {
   "codemirror_mode": {
    "name": "ipython",
    "version": 3
   },
   "file_extension": ".py",
   "mimetype": "text/x-python",
   "name": "python",
   "nbconvert_exporter": "python",
   "pygments_lexer": "ipython3",
   "version": "3.7.4"
  }
 },
 "nbformat": 4,
 "nbformat_minor": 2
}
